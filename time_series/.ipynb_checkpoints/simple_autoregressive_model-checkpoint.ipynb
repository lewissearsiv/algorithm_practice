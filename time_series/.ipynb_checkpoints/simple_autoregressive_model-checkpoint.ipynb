{
 "cells": [
  {
   "cell_type": "markdown",
   "metadata": {},
   "source": [
    "## Autoregressive Time Series Model\n",
    "----"
   ]
  },
  {
   "cell_type": "markdown",
   "metadata": {},
   "source": [
    "When analyzing time series data, we have a sequence a time series values $\\{x_i\\}$ that are indexed by time values in order. The autoregressive model $AR(p)$ attempts to predict the next value in the series by making a linear regression using the $p$ previous points. \n",
    "\n",
    "Since we have already programmed linear regression in a previous folder, we will use Sci-Kit Learns implementation of linear regression to fit the coefficient values."
   ]
  },
  {
   "cell_type": "code",
   "execution_count": 93,
   "metadata": {},
   "outputs": [],
   "source": [
    "import numpy as np\n",
    "from sklearn.linear_model import LinearRegression\n",
    "from sklearn.model_selection import train_test_split\n",
    "class autoregressive(object):\n",
    "    '''Produce an AR(p) model for time series data.'''\n",
    "    \n",
    "    \n",
    "    def __init__(self, p):\n",
    "        '''Initialize the order p.'''\n",
    "        self.p = p\n",
    "        \n",
    "        \n",
    "    def fit(self, time_data, holdout_percent):\n",
    "        '''Enter time series training data to be fit on the model in the form of a \n",
    "        list, numpy array, and pandas series. This will automatically hold out data\n",
    "        for unseen data statistics. \n",
    "        The holdout_percentage is the ammount of data held out for evaluation of the \n",
    "        model. Input an integer between 1 and 99 for this value.'''\n",
    "        \n",
    "        data = np.array(time_data)\n",
    "        \n",
    "        percent = holdout_percent/100\n",
    "        \n",
    "        #Values to predict\n",
    "        y = data[self.p:]\n",
    "        #Lagged data as features\n",
    "        features = np.array([data[i:i+self.p] for i in range(len(data) - self.p)])\n",
    "        #Create holdout data for evaluation\n",
    "        X_train, X_test, y_train, y_test = train_test_split(features, y, test_size=percent, random_state=42)\n",
    "        \n",
    "        #Now fit the linear regression\n",
    "        self.ar_model = LinearRegression().fit(X_train, y_train)\n",
    "        self.coef_, self.intercept_ = self.ar_model.coef_, self.ar_model.intercept_\n",
    "        self.train_score = self.ar_model.score(X_train, y_train)\n",
    "        self.test_score = self.ar_model.score(X_test, y_test)\n",
    "        self.predict = self.ar_model.predict\n",
    "        \n",
    "        output1 = \"The Autoregressive model of order {} has been fit to your time series data.\\n\".format(self.p)\n",
    "        output2 = \"    Train r-squared statistic: {}.\\n\".format(self.train_score)\n",
    "        output3 = \"     Test r-squared statistic: {}.\".format(self.test_score)\n",
    "        print(output1+output2+output3)"
   ]
  },
  {
   "cell_type": "code",
   "execution_count": 94,
   "metadata": {},
   "outputs": [
    {
     "data": {
      "text/plain": [
       "array([ 4.20064476,  6.17198984,  5.31641965,  7.20035394,  9.36318397,\n",
       "        9.94404053,  8.4560752 , 12.25984297, 12.56477447, 12.01135715])"
      ]
     },
     "execution_count": 94,
     "metadata": {},
     "output_type": "execute_result"
    }
   ],
   "source": [
    "x = np.array([i for i in range(1000)])+np.random.uniform(0, 7, size = 1000)\n",
    "x[:10]"
   ]
  },
  {
   "cell_type": "code",
   "execution_count": 104,
   "metadata": {},
   "outputs": [
    {
     "name": "stdout",
     "output_type": "stream",
     "text": [
      "The Autoregressive model of order 4 has been fit to your time series data.\n",
      "    Train r-squared statistic: 0.9999387950054849.\n",
      "     Test r-squared statistic: 0.9999416686076599.\n"
     ]
    }
   ],
   "source": [
    "f = autoregressive(4)\n",
    "f.fit(x, 33)"
   ]
  },
  {
   "cell_type": "code",
   "execution_count": 105,
   "metadata": {},
   "outputs": [
    {
     "data": {
      "text/plain": [
       "array([0.29008498, 0.19697016, 0.24111882, 0.27160835])"
      ]
     },
     "execution_count": 105,
     "metadata": {},
     "output_type": "execute_result"
    }
   ],
   "source": [
    "f.coef_"
   ]
  },
  {
   "cell_type": "code",
   "execution_count": 106,
   "metadata": {},
   "outputs": [
    {
     "data": {
      "text/plain": [
       "2.7061646056939708"
      ]
     },
     "execution_count": 106,
     "metadata": {},
     "output_type": "execute_result"
    }
   ],
   "source": [
    "f.intercept_"
   ]
  },
  {
   "cell_type": "code",
   "execution_count": 108,
   "metadata": {},
   "outputs": [
    {
     "data": {
      "text/plain": [
       "array([ 5.19997979, 24.0735119 ])"
      ]
     },
     "execution_count": 108,
     "metadata": {},
     "output_type": "execute_result"
    }
   ],
   "source": [
    "f.predict(np.array([[1,2,3,4],[20,19,22,24]]))"
   ]
  }
 ],
 "metadata": {
  "kernelspec": {
   "display_name": "Python 3",
   "language": "python",
   "name": "python3"
  },
  "language_info": {
   "codemirror_mode": {
    "name": "ipython",
    "version": 3
   },
   "file_extension": ".py",
   "mimetype": "text/x-python",
   "name": "python",
   "nbconvert_exporter": "python",
   "pygments_lexer": "ipython3",
   "version": "3.7.7"
  }
 },
 "nbformat": 4,
 "nbformat_minor": 4
}
