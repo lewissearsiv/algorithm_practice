{
 "cells": [
  {
   "cell_type": "markdown",
   "metadata": {},
   "source": [
    "## K-Means Clustering\n",
    "#### Lew Sears"
   ]
  },
  {
   "cell_type": "code",
   "execution_count": 1,
   "metadata": {},
   "outputs": [],
   "source": [
    "import numpy as np\n",
    "import pandas as pd"
   ]
  },
  {
   "cell_type": "code",
   "execution_count": 58,
   "metadata": {},
   "outputs": [],
   "source": [
    "class K_Means_Clustering:\n",
    "    '''Basic k-means algorithm for cluster analysis. '''\n",
    "    \n",
    "    #initialize the hyperparameter k\n",
    "    def __init__(self, k):\n",
    "        try:\n",
    "            if type(k) == int and k >= 1:\n",
    "                self.k = k\n",
    "            else:\n",
    "                raise ValueError('Bad k')\n",
    "        except ValueError as exp:\n",
    "            line = \"\\n---------------------------------------\\n\"\n",
    "            print(\"Value Error:{}Given k = {}. Bad choice my friend!{}k must be a nonzero positive integer.{}\\\n",
    "            \".format(line, k, line, line))\n",
    "    \n",
    "    #Find the best centroids to create labels\n",
    "    def fit(self, df, iterations):\n",
    "        '''Input a scaled np.array with only numerical columns to be assigned labels. For a pandas dataframe,\n",
    "        just fit StandardScaler and transform the dataframe. Put in the amount of iterations you desire. The\n",
    "        iterations will stop if the labels do not change.'''\n",
    "        \n",
    "        #We will run through this process based on the set ammount of iterations.\n",
    "        iteration_counter = 0\n",
    "        while iteration_counter < iterations:\n",
    "            \n",
    "            #Initialize centroids\n",
    "            if iteration_counter == 0:\n",
    "                #df is scaled so we just want random points normally distibuted around 0\n",
    "                centroids = np.random.normal(0 , 1, size = (self.k,df.shape[1]))\n",
    "            #Update centroids\n",
    "            else:\n",
    "                centroids = centroids_update\n",
    "\n",
    "\n",
    "            #Pick first labels\n",
    "            closest_centroid = []\n",
    "            for vec in df:\n",
    "                distances = np.sum((centroids - vec)**2, axis = 1)\n",
    "                label = np.argmin(distances)\n",
    "                closest_centroid.append(label)\n",
    "            labels = np.array(closest_centroid)\n",
    "\n",
    "            #Now calculate new centroids\n",
    "            centroids_update = np.array([])\n",
    "            unique_labels = np.unique(labels)\n",
    "            for some_label in unique_labels:\n",
    "                some_label_group = df[labels == some_label]\n",
    "                \n",
    "                #Find the average\n",
    "                try: \n",
    "                    center = np.sum(some_label_group, axis = 0)/some_label_group.shape[0]\n",
    "                #This is basically the case where there are no points with this label\n",
    "                except:\n",
    "                    center = np.random.normal(0 , 1, size = (5,)) \n",
    "                \n",
    "                centroids_update = np.append(centroids_update, center)\n",
    "            \n",
    "            iteration_counter += 1\n",
    "\n",
    "        return labels"
   ]
  },
  {
   "cell_type": "code",
   "execution_count": 59,
   "metadata": {},
   "outputs": [
    {
     "data": {
      "text/plain": [
       "array([[-0.43494639,  0.6031047 , -0.60831517, -0.80121495,  0.93350562],\n",
       "       [-1.08545122, -0.40878412, -1.29623252, -0.9983876 ,  1.24182003],\n",
       "       [ 0.3342997 ,  1.74268812, -0.20874607, -1.04087587,  0.9955492 ],\n",
       "       [ 0.18922111, -0.72759953,  1.40623096, -1.29659689,  0.50826755],\n",
       "       [ 1.38166411, -0.49538869,  1.65122455, -0.52593239, -0.94490617]])"
      ]
     },
     "execution_count": 59,
     "metadata": {},
     "output_type": "execute_result"
    }
   ],
   "source": [
    "sample_df = np.random.normal(0 , 1, size = (100,5))\n",
    "sample_df[:5]"
   ]
  },
  {
   "cell_type": "code",
   "execution_count": 66,
   "metadata": {},
   "outputs": [],
   "source": [
    "model = K_Means_Clustering(5)"
   ]
  },
  {
   "cell_type": "code",
   "execution_count": 67,
   "metadata": {},
   "outputs": [
    {
     "ename": "ValueError",
     "evalue": "operands could not be broadcast together with shapes (25,) (5,) ",
     "output_type": "error",
     "traceback": [
      "\u001b[0;31m---------------------------------------------------------------------------\u001b[0m",
      "\u001b[0;31mValueError\u001b[0m                                Traceback (most recent call last)",
      "\u001b[0;32m<ipython-input-67-03648e32f52d>\u001b[0m in \u001b[0;36m<module>\u001b[0;34m\u001b[0m\n\u001b[0;32m----> 1\u001b[0;31m \u001b[0ma\u001b[0m \u001b[0;34m=\u001b[0m \u001b[0mmodel\u001b[0m\u001b[0;34m.\u001b[0m\u001b[0mfit\u001b[0m\u001b[0;34m(\u001b[0m\u001b[0msample_df\u001b[0m\u001b[0;34m,\u001b[0m \u001b[0;36m2\u001b[0m\u001b[0;34m)\u001b[0m\u001b[0;34m\u001b[0m\u001b[0;34m\u001b[0m\u001b[0m\n\u001b[0m",
      "\u001b[0;32m<ipython-input-58-5dddb4f605f4>\u001b[0m in \u001b[0;36mfit\u001b[0;34m(self, df, iterations)\u001b[0m\n\u001b[1;32m     36\u001b[0m             \u001b[0mclosest_centroid\u001b[0m \u001b[0;34m=\u001b[0m \u001b[0;34m[\u001b[0m\u001b[0;34m]\u001b[0m\u001b[0;34m\u001b[0m\u001b[0;34m\u001b[0m\u001b[0m\n\u001b[1;32m     37\u001b[0m             \u001b[0;32mfor\u001b[0m \u001b[0mvec\u001b[0m \u001b[0;32min\u001b[0m \u001b[0mdf\u001b[0m\u001b[0;34m:\u001b[0m\u001b[0;34m\u001b[0m\u001b[0;34m\u001b[0m\u001b[0m\n\u001b[0;32m---> 38\u001b[0;31m                 \u001b[0mdistances\u001b[0m \u001b[0;34m=\u001b[0m \u001b[0mnp\u001b[0m\u001b[0;34m.\u001b[0m\u001b[0msum\u001b[0m\u001b[0;34m(\u001b[0m\u001b[0;34m(\u001b[0m\u001b[0mcentroids\u001b[0m \u001b[0;34m-\u001b[0m \u001b[0mvec\u001b[0m\u001b[0;34m)\u001b[0m\u001b[0;34m**\u001b[0m\u001b[0;36m2\u001b[0m\u001b[0;34m,\u001b[0m \u001b[0maxis\u001b[0m \u001b[0;34m=\u001b[0m \u001b[0;36m1\u001b[0m\u001b[0;34m)\u001b[0m\u001b[0;34m\u001b[0m\u001b[0;34m\u001b[0m\u001b[0m\n\u001b[0m\u001b[1;32m     39\u001b[0m                 \u001b[0mlabel\u001b[0m \u001b[0;34m=\u001b[0m \u001b[0mnp\u001b[0m\u001b[0;34m.\u001b[0m\u001b[0margmin\u001b[0m\u001b[0;34m(\u001b[0m\u001b[0mdistances\u001b[0m\u001b[0;34m)\u001b[0m\u001b[0;34m\u001b[0m\u001b[0;34m\u001b[0m\u001b[0m\n\u001b[1;32m     40\u001b[0m                 \u001b[0mclosest_centroid\u001b[0m\u001b[0;34m.\u001b[0m\u001b[0mappend\u001b[0m\u001b[0;34m(\u001b[0m\u001b[0mlabel\u001b[0m\u001b[0;34m)\u001b[0m\u001b[0;34m\u001b[0m\u001b[0;34m\u001b[0m\u001b[0m\n",
      "\u001b[0;31mValueError\u001b[0m: operands could not be broadcast together with shapes (25,) (5,) "
     ]
    }
   ],
   "source": [
    "a = model.fit(sample_df, 2)"
   ]
  },
  {
   "cell_type": "code",
   "execution_count": 64,
   "metadata": {},
   "outputs": [
    {
     "data": {
      "text/plain": [
       "(array([0, 1, 2, 3, 4]), array([14,  5,  8, 27, 46]))"
      ]
     },
     "execution_count": 64,
     "metadata": {},
     "output_type": "execute_result"
    }
   ],
   "source": [
    "np.unique(a, return_counts = True)"
   ]
  },
  {
   "cell_type": "code",
   "execution_count": 57,
   "metadata": {},
   "outputs": [
    {
     "data": {
      "text/plain": [
       "array([-0.39893286,  0.42642756,  0.38232434, -1.33909095, -0.60279778])"
      ]
     },
     "execution_count": 57,
     "metadata": {},
     "output_type": "execute_result"
    }
   ],
   "source": [
    "np.random.normal(0 , 1, size = (5,))"
   ]
  },
  {
   "cell_type": "code",
   "execution_count": 25,
   "metadata": {},
   "outputs": [
    {
     "data": {
      "text/plain": [
       "array([-26.22710437,   9.39695907,  11.26254398,  11.84438728,\n",
       "        -6.34933494])"
      ]
     },
     "execution_count": 25,
     "metadata": {},
     "output_type": "execute_result"
    }
   ],
   "source": [
    "np.sum(a,axis = 0)"
   ]
  },
  {
   "cell_type": "code",
   "execution_count": 34,
   "metadata": {},
   "outputs": [],
   "source": [
    "new_thing = np.sum(a, axis = 0)/a.shape[0]"
   ]
  },
  {
   "cell_type": "code",
   "execution_count": 53,
   "metadata": {},
   "outputs": [],
   "source": [
    "a = np.array([])"
   ]
  },
  {
   "cell_type": "code",
   "execution_count": 55,
   "metadata": {},
   "outputs": [
    {
     "data": {
      "text/plain": [
       "0"
      ]
     },
     "execution_count": 55,
     "metadata": {},
     "output_type": "execute_result"
    }
   ],
   "source": [
    "a.shape[0]"
   ]
  },
  {
   "cell_type": "code",
   "execution_count": 35,
   "metadata": {},
   "outputs": [
    {
     "data": {
      "text/plain": [
       "array([-0.51682262, -0.14803706,  1.35172585, -0.39953882, -0.27552468,\n",
       "       -0.51682262, -0.14803706,  1.35172585, -0.39953882, -0.27552468])"
      ]
     },
     "execution_count": 35,
     "metadata": {},
     "output_type": "execute_result"
    }
   ],
   "source": [
    "np.append(r,new_thing)"
   ]
  },
  {
   "cell_type": "code",
   "execution_count": 36,
   "metadata": {},
   "outputs": [
    {
     "data": {
      "text/plain": [
       "array([-0.51682262, -0.14803706,  1.35172585, -0.39953882, -0.27552468])"
      ]
     },
     "execution_count": 36,
     "metadata": {},
     "output_type": "execute_result"
    }
   ],
   "source": [
    "r"
   ]
  },
  {
   "cell_type": "code",
   "execution_count": null,
   "metadata": {},
   "outputs": [],
   "source": []
  }
 ],
 "metadata": {
  "kernelspec": {
   "display_name": "Python 3",
   "language": "python",
   "name": "python3"
  },
  "language_info": {
   "codemirror_mode": {
    "name": "ipython",
    "version": 3
   },
   "file_extension": ".py",
   "mimetype": "text/x-python",
   "name": "python",
   "nbconvert_exporter": "python",
   "pygments_lexer": "ipython3",
   "version": "3.7.7"
  }
 },
 "nbformat": 4,
 "nbformat_minor": 4
}
