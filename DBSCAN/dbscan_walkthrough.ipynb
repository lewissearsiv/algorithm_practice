{
 "cells": [
  {
   "cell_type": "markdown",
   "metadata": {},
   "source": [
    "## DBSCAN Clustering\n",
    "#### Lewis Sears\n",
    "\n",
    "**Density-based spatial clustering of applications with noise**, commonly DBSCAN, is a popular unsupervised clustering technique that is fundamentally different than $k$-means clustering. Instead of iteratively creating centroids estimating the centers of our desired centroids, DBSCAN creates $\\epsilon$ neighborhoods around each data point and analyzes the crossover of the points. We label these points as *core* and *boundary* points based on how many other data points are in the neighborhood. Points with no other points in their neighborhood are considered *noise* points. There are naturally two hyperparameters to the algorithm:\n",
    "1. How large do we make $\\epsilon$ to accurately capture the topology of clusters without capturing noise?\n",
    "2. For a data point $x_{i}$ with an neighborhood $N_{\\epsilon}(x_{i})$, how many other data points must be in $N_{\\epsilon}(x_{i})$ to label $x_{i}$ such that $x_{i}$ is not noise? \n",
    "\n",
    "This naturally requires some intensive tuning."
   ]
  },
  {
   "cell_type": "markdown",
   "metadata": {},
   "source": [
    "### The Algorithm"
   ]
  },
  {
   "cell_type": "code",
   "execution_count": 50,
   "metadata": {},
   "outputs": [],
   "source": [
    "import pandas as pd\n",
    "import numpy as np\n",
    "from scipy.spatial.distance import pdist, squareform\n",
    "\n",
    "class DBSCAN(object):\n",
    "    '''This is a DBSCAN clustering algorithm. It will default to euclidean distance.'''\n",
    "    \n",
    "    def __init__(self, radius, noiseNumber):\n",
    "        '''Initialize Hyperparameters:\n",
    "\n",
    "        radius: The size of the neighborhoods around points to evaluate close points.\n",
    "        coreNumber: The minimum number of points in a neighborhood that filters out noise.\n",
    "        '''\n",
    "        self.radius = radius\n",
    "        self.n = noiseNumber\n",
    "        \n",
    "    def fit(self, DataFrame):\n",
    "        '''Puts labels on a pandas dataframe. Scale before fitting.'''\n",
    "        \n",
    "        #Create a distance matrix of the data\n",
    "        dist_matrix = squareform(pdist(DataFrame, metric='euclidean'))\n",
    "        \n",
    "        #Use distance matrix to filter nosie points  \n",
    "        mask = np.ma.masked_less_equal(dist_matrix, self.radius).mask\n",
    "        neighborhood_density = np.count_nonzero(mask == True, axis = 0) - 1\n",
    "        df_dense_points = DataFrame[neighborhood_density >= self.n]\n",
    "        dense_dist = dist_matrix[neighborhood_density >= self.n] \n",
    "        self.noise_points = DataFrame[neighborhood_density < self.n]\n",
    "        \n",
    "        \n",
    "        \n",
    "        \n",
    "        \n",
    "        \n",
    "        return df_dense_points\n",
    "    \n",
    "    \n",
    "    \n",
    "    \n",
    "    \n",
    "    \n",
    "    \n",
    "    \n",
    "    \n",
    "    \n",
    "    \n",
    "    \n",
    "    \n",
    "    \n",
    "    \n",
    "    "
   ]
  },
  {
   "cell_type": "code",
   "execution_count": 51,
   "metadata": {},
   "outputs": [],
   "source": [
    "df = pd.DataFrame({'a': [1,2,3,4,5,11,12,13,14,15,21,22,23,24,25]})\n",
    "df['b'] = df['a'] - 5"
   ]
  },
  {
   "cell_type": "code",
   "execution_count": 52,
   "metadata": {},
   "outputs": [],
   "source": [
    "dbscan = DBSCAN(3, 3)"
   ]
  },
  {
   "cell_type": "code",
   "execution_count": 53,
   "metadata": {},
   "outputs": [
    {
     "data": {
      "text/html": [
       "<div>\n",
       "<style scoped>\n",
       "    .dataframe tbody tr th:only-of-type {\n",
       "        vertical-align: middle;\n",
       "    }\n",
       "\n",
       "    .dataframe tbody tr th {\n",
       "        vertical-align: top;\n",
       "    }\n",
       "\n",
       "    .dataframe thead th {\n",
       "        text-align: right;\n",
       "    }\n",
       "</style>\n",
       "<table border=\"1\" class=\"dataframe\">\n",
       "  <thead>\n",
       "    <tr style=\"text-align: right;\">\n",
       "      <th></th>\n",
       "      <th>a</th>\n",
       "      <th>b</th>\n",
       "    </tr>\n",
       "  </thead>\n",
       "  <tbody>\n",
       "    <tr>\n",
       "      <th>1</th>\n",
       "      <td>2</td>\n",
       "      <td>-3</td>\n",
       "    </tr>\n",
       "    <tr>\n",
       "      <th>2</th>\n",
       "      <td>3</td>\n",
       "      <td>-2</td>\n",
       "    </tr>\n",
       "    <tr>\n",
       "      <th>3</th>\n",
       "      <td>4</td>\n",
       "      <td>-1</td>\n",
       "    </tr>\n",
       "    <tr>\n",
       "      <th>6</th>\n",
       "      <td>12</td>\n",
       "      <td>7</td>\n",
       "    </tr>\n",
       "    <tr>\n",
       "      <th>7</th>\n",
       "      <td>13</td>\n",
       "      <td>8</td>\n",
       "    </tr>\n",
       "    <tr>\n",
       "      <th>8</th>\n",
       "      <td>14</td>\n",
       "      <td>9</td>\n",
       "    </tr>\n",
       "    <tr>\n",
       "      <th>11</th>\n",
       "      <td>22</td>\n",
       "      <td>17</td>\n",
       "    </tr>\n",
       "    <tr>\n",
       "      <th>12</th>\n",
       "      <td>23</td>\n",
       "      <td>18</td>\n",
       "    </tr>\n",
       "    <tr>\n",
       "      <th>13</th>\n",
       "      <td>24</td>\n",
       "      <td>19</td>\n",
       "    </tr>\n",
       "  </tbody>\n",
       "</table>\n",
       "</div>"
      ],
      "text/plain": [
       "     a   b\n",
       "1    2  -3\n",
       "2    3  -2\n",
       "3    4  -1\n",
       "6   12   7\n",
       "7   13   8\n",
       "8   14   9\n",
       "11  22  17\n",
       "12  23  18\n",
       "13  24  19"
      ]
     },
     "execution_count": 53,
     "metadata": {},
     "output_type": "execute_result"
    }
   ],
   "source": [
    "dbscan.fit(df)"
   ]
  },
  {
   "cell_type": "code",
   "execution_count": null,
   "metadata": {},
   "outputs": [],
   "source": []
  }
 ],
 "metadata": {
  "kernelspec": {
   "display_name": "Python 3",
   "language": "python",
   "name": "python3"
  },
  "language_info": {
   "codemirror_mode": {
    "name": "ipython",
    "version": 3
   },
   "file_extension": ".py",
   "mimetype": "text/x-python",
   "name": "python",
   "nbconvert_exporter": "python",
   "pygments_lexer": "ipython3",
   "version": "3.7.7"
  }
 },
 "nbformat": 4,
 "nbformat_minor": 4
}
