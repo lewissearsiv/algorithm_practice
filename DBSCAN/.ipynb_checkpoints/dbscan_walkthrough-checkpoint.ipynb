{
 "cells": [
  {
   "cell_type": "markdown",
   "metadata": {},
   "source": [
    "## DBSCAN Clustering\n",
    "#### Lewis Sears\n",
    "\n",
    "**Density-based spatial clustering of applications with noise**, commonly DBSCAN, is a popular unsupervised clustering technique that is fundamentally different than $k$-means clustering. Instead of iteratively creating centroids estimating the centers of our desired centroids, DBSCAN creates $\\epsilon$ neighborhoods around each data point and analyzes the crossover of the points. We label these points as *core* and *boundary* points based on how many other data points are in the neighborhood. Points with no other points in their neighborhood are considered *noise* points. There are naturally two hyperparameters to the algorithm:\n",
    "1. How large do we make $\\epsilon$ to accurately capture the topology of clusters without capturing noise?\n",
    "2. For a data point $x_{i}$ with an neighborhood $N_{\\epsilon}(x_{i})$, how many other data points must be in $N_{\\epsilon}(x_{i})$ to label $x_{i}$ such that $x_{i}$ is not noise? \n",
    "\n",
    "This naturally requires some intensive tuning."
   ]
  },
  {
   "cell_type": "markdown",
   "metadata": {},
   "source": [
    "### The Algorithm"
   ]
  },
  {
   "cell_type": "code",
   "execution_count": 1,
   "metadata": {},
   "outputs": [],
   "source": [
    "import pandas as pd\n",
    "import numpy as np\n",
    "from scipy.spatial.distance import pdist, squareform\n",
    "\n",
    "class DBSCAN(object):\n",
    "    '''This is a DBSCAN clustering algorithm. It will default to euclidean distance.'''\n",
    "    \n",
    "    def __init__(self, radius, noiseNumber):\n",
    "        '''Initialize Hyperparameters:\n",
    "\n",
    "        radius: The size of the neighborhoods around points to evaluate close points.\n",
    "        coreNumber: The minimum number of points in a neighborhood that filters out noise.\n",
    "        '''\n",
    "        self.radius = radius\n",
    "        self.n = noiseNumber\n",
    "        \n",
    "    def fit(self, DataFrame):\n",
    "        '''Puts labels on a pandas dataframe. Scale before fitting.'''\n",
    "        \n",
    "        #Create a distance matrix of the data\n",
    "        dist_matrix = squareform(pdist(DataFrame, metric='euclidean'))\n",
    "        \n",
    "        #Use distance matrix to filter nosie points  \n",
    "        mask = np.ma.masked_less_equal(dist_matrix, self.radius).mask\n",
    "        neighborhood_density = np.count_nonzero(mask == True, axis = 0) - 1\n",
    "        df_dense_points = DataFrame[neighborhood_density >= self.n]\n",
    "        dense_dist = dist_matrix[neighborhood_density >= self.n] \n",
    "        self.noise_points = DataFrame[neighborhood_density < self.n]\n",
    "        \n",
    "        \n",
    "        \n",
    "        \n",
    "        \n",
    "        \n",
    "        return dense_dist    "
   ]
  },
  {
   "cell_type": "code",
   "execution_count": 2,
   "metadata": {},
   "outputs": [],
   "source": [
    "df = pd.DataFrame({'a': [1,2,3,4,5,11,12,13,14,15,21,22,23,24,25]})\n",
    "df['b'] = df['a'] - 5"
   ]
  },
  {
   "cell_type": "code",
   "execution_count": 3,
   "metadata": {},
   "outputs": [],
   "source": [
    "dbscan = DBSCAN(3, 3)"
   ]
  },
  {
   "cell_type": "code",
   "execution_count": 4,
   "metadata": {},
   "outputs": [
    {
     "data": {
      "text/plain": [
       "array([[ 1.41421356,  0.        ,  1.41421356,  2.82842712,  4.24264069,\n",
       "        12.72792206, 14.14213562, 15.55634919, 16.97056275, 18.38477631,\n",
       "        26.87005769, 28.28427125, 29.69848481, 31.11269837, 32.52691193],\n",
       "       [ 2.82842712,  1.41421356,  0.        ,  1.41421356,  2.82842712,\n",
       "        11.3137085 , 12.72792206, 14.14213562, 15.55634919, 16.97056275,\n",
       "        25.45584412, 26.87005769, 28.28427125, 29.69848481, 31.11269837],\n",
       "       [ 4.24264069,  2.82842712,  1.41421356,  0.        ,  1.41421356,\n",
       "         9.89949494, 11.3137085 , 12.72792206, 14.14213562, 15.55634919,\n",
       "        24.04163056, 25.45584412, 26.87005769, 28.28427125, 29.69848481],\n",
       "       [15.55634919, 14.14213562, 12.72792206, 11.3137085 ,  9.89949494,\n",
       "         1.41421356,  0.        ,  1.41421356,  2.82842712,  4.24264069,\n",
       "        12.72792206, 14.14213562, 15.55634919, 16.97056275, 18.38477631],\n",
       "       [16.97056275, 15.55634919, 14.14213562, 12.72792206, 11.3137085 ,\n",
       "         2.82842712,  1.41421356,  0.        ,  1.41421356,  2.82842712,\n",
       "        11.3137085 , 12.72792206, 14.14213562, 15.55634919, 16.97056275],\n",
       "       [18.38477631, 16.97056275, 15.55634919, 14.14213562, 12.72792206,\n",
       "         4.24264069,  2.82842712,  1.41421356,  0.        ,  1.41421356,\n",
       "         9.89949494, 11.3137085 , 12.72792206, 14.14213562, 15.55634919],\n",
       "       [29.69848481, 28.28427125, 26.87005769, 25.45584412, 24.04163056,\n",
       "        15.55634919, 14.14213562, 12.72792206, 11.3137085 ,  9.89949494,\n",
       "         1.41421356,  0.        ,  1.41421356,  2.82842712,  4.24264069],\n",
       "       [31.11269837, 29.69848481, 28.28427125, 26.87005769, 25.45584412,\n",
       "        16.97056275, 15.55634919, 14.14213562, 12.72792206, 11.3137085 ,\n",
       "         2.82842712,  1.41421356,  0.        ,  1.41421356,  2.82842712],\n",
       "       [32.52691193, 31.11269837, 29.69848481, 28.28427125, 26.87005769,\n",
       "        18.38477631, 16.97056275, 15.55634919, 14.14213562, 12.72792206,\n",
       "         4.24264069,  2.82842712,  1.41421356,  0.        ,  1.41421356]])"
      ]
     },
     "execution_count": 4,
     "metadata": {},
     "output_type": "execute_result"
    }
   ],
   "source": [
    "dbscan.fit(df)"
   ]
  },
  {
   "cell_type": "code",
   "execution_count": 6,
   "metadata": {},
   "outputs": [
    {
     "ename": "AttributeError",
     "evalue": "'DBSCAN' object has no attribute 'dense'",
     "output_type": "error",
     "traceback": [
      "\u001b[0;31m---------------------------------------------------------------------------\u001b[0m",
      "\u001b[0;31mAttributeError\u001b[0m                            Traceback (most recent call last)",
      "\u001b[0;32m<ipython-input-6-ea1ae636d6d4>\u001b[0m in \u001b[0;36m<module>\u001b[0;34m\u001b[0m\n\u001b[0;32m----> 1\u001b[0;31m \u001b[0mdbscan\u001b[0m\u001b[0;34m.\u001b[0m\u001b[0mdense\u001b[0m\u001b[0;34m\u001b[0m\u001b[0;34m\u001b[0m\u001b[0m\n\u001b[0m",
      "\u001b[0;31mAttributeError\u001b[0m: 'DBSCAN' object has no attribute 'dense'"
     ]
    }
   ],
   "source": [
    "dbscan.dense"
   ]
  },
  {
   "cell_type": "code",
   "execution_count": null,
   "metadata": {},
   "outputs": [],
   "source": []
  }
 ],
 "metadata": {
  "kernelspec": {
   "display_name": "Python 3",
   "language": "python",
   "name": "python3"
  },
  "language_info": {
   "codemirror_mode": {
    "name": "ipython",
    "version": 3
   },
   "file_extension": ".py",
   "mimetype": "text/x-python",
   "name": "python",
   "nbconvert_exporter": "python",
   "pygments_lexer": "ipython3",
   "version": "3.7.7"
  }
 },
 "nbformat": 4,
 "nbformat_minor": 4
}
