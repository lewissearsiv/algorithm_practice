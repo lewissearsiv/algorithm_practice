{
 "cells": [
  {
   "cell_type": "markdown",
   "metadata": {},
   "source": [
    "## DBSCAN Clustering\n",
    "#### Lewis Sears\n",
    "\n",
    "**Density-based spatial clustering of applications with noise**, commonly DBSCAN, is a popular unsupervised clustering technique that is fundamentally different than $k$-means clustering. Instead of iteratively creating centroids estimating the centers of our desired centroids, DBSCAN creates $\\epsilon$ neighborhoods around each data point and analyzes the crossover of the points. We label these points as *core* and *boundary* points based on how many other data points are in the neighborhood. Points with no other points in their neighborhood are considered *noise* points. There are naturally two hyperparameters to the algorithm:\n",
    "1. How large do we make $\\epsilon$ to accurately capture the topology of clusters without capturing noise?\n",
    "2. For a data point $x_{i}$ with an neighborhood $N_{\\epsilon}(x_{i})$, how many other data points must be in $N_{\\epsilon}(x_{i})$ to label $x_{i}$ as a core point of the cluster? \n",
    "This naturally requires some intensive tuning."
   ]
  },
  {
   "cell_type": "code",
   "execution_count": null,
   "metadata": {},
   "outputs": [],
   "source": []
  },
  {
   "cell_type": "code",
   "execution_count": null,
   "metadata": {},
   "outputs": [],
   "source": []
  },
  {
   "cell_type": "code",
   "execution_count": null,
   "metadata": {},
   "outputs": [],
   "source": []
  },
  {
   "cell_type": "code",
   "execution_count": null,
   "metadata": {},
   "outputs": [],
   "source": []
  }
 ],
 "metadata": {
  "kernelspec": {
   "display_name": "Python 3",
   "language": "python",
   "name": "python3"
  },
  "language_info": {
   "codemirror_mode": {
    "name": "ipython",
    "version": 3
   },
   "file_extension": ".py",
   "mimetype": "text/x-python",
   "name": "python",
   "nbconvert_exporter": "python",
   "pygments_lexer": "ipython3",
   "version": "3.7.7"
  }
 },
 "nbformat": 4,
 "nbformat_minor": 4
}
