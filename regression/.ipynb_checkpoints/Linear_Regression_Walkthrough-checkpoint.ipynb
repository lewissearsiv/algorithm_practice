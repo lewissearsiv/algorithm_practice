{
 "cells": [
  {
   "cell_type": "markdown",
   "metadata": {},
   "source": [
    "## Linear Regression Algorithm Walk through\n",
    "#### Lew Sears"
   ]
  },
  {
   "cell_type": "code",
   "execution_count": 1,
   "metadata": {},
   "outputs": [],
   "source": [
    "import pandas as pd\n",
    "import numpy as np"
   ]
  },
  {
   "cell_type": "markdown",
   "metadata": {},
   "source": [
    "Linear regression is one of the simplest, yet most important principals of data science. While simple as it may be, it's important to have a really good understanding of the foundational building blocks before you can begin to talk about more powerful ideas like Neural Networks (which in a simplistic way stack many linear regressions). It's general goal is to take a vector of features and output a value, usually a prediction. For example, give the model a bunch of data about a house and try to create a prediction of the price.\n",
    "\n",
    "To predict that value of the house, we will create weights that value how important changes in each feature is to the final target. These weights are trained using data and targets from information about houses that we know. As you may expect, a linear regression works best with continuous data, but a few binary features aren't the end of the word. For categorical data, best practice is to one-hot-encode the rows. "
   ]
  },
  {
   "cell_type": "code",
   "execution_count": 2,
   "metadata": {},
   "outputs": [],
   "source": [
    "class LinearRegression():\n",
    "    \n",
    "    def __init__(self, learning_rate):\n",
    "        '''Initializes the class with a learning rate for the optimization of weights.'''\n",
    "        self.learning_rate = learning_rate\n",
    "          \n",
    "    def fit(self, train_data, train_target):\n",
    "        '''Input the training data and its respective target values'''\n",
    "        \n",
    "        #Convert data to numpy arrays\n",
    "        X = np.concatenate((np.array([np.zeros(len(train_data))+1]).T, train_data), axis = 1)\n",
    "        y = np.array(train_target)\n",
    "        \n",
    "        #initialize coefficients\n",
    "        coefficients = np.random.normal(0, 1, X.shape[1])\n",
    "        self.coefficients = coefficients\n",
    "        \n",
    "        #Keep a list of SSE and MSE for each iteration if you desire to analyze\n",
    "        \n",
    "        self.SSE_list = []\n",
    "        self.MSE_list = []\n",
    "            \n",
    "        \n",
    "        #iteratively improve coefficients:\n",
    "        i = 0\n",
    "        while i < 1000:\n",
    "            predict = np.matmul(X, self.coefficients)\n",
    "            SSE = np.linalg.norm(y-predict)\n",
    "            MSE = SSE/X.shape[0]\n",
    "            self.SSE_list.append(SSE)\n",
    "            self.MSE_list.append(MSE)\n",
    "            \n",
    "            #Calculate the gradient and apply stochastic gradient descent\n",
    "            gradient = -(1/SSE) * np.matmul((y-predict).T, X)+np.random.normal(0, 1, self.coefficients.shape)\n",
    "            self.coefficients = self.coefficients - (1/(i+1))*self.learning_rate * gradient\n",
    "            i += 1\n",
    "        SStotal = np.sum((y - np.mean(y))**2)\n",
    "        self.intercept = self.coefficients[0]\n",
    "        self.weights = self.coefficients[1:]\n",
    "        self.error_analysis = pd.DataFrame({'Sum of Squared Errors': [self.SSE_list[-1]],\n",
    "                                           'Mean Squared Error': [self.MSE_list[-1]],\n",
    "                                           'Root Mean Squared Error': [np.sqrt(self.MSE_list[-1])],\n",
    "                                           'R-squared': [1-self.SSE_list[-1]/SStotal]})\n",
    "        return self"
   ]
  },
  {
   "cell_type": "markdown",
   "metadata": {},
   "source": [
    "#### A simple example"
   ]
  },
  {
   "cell_type": "code",
   "execution_count": 3,
   "metadata": {},
   "outputs": [],
   "source": [
    "sample_data = pd.DataFrame({'a': 10*np.random.normal(0,1, 10000), 'b': 10*np.random.normal(0,1, 10000)})"
   ]
  },
  {
   "cell_type": "code",
   "execution_count": 4,
   "metadata": {},
   "outputs": [],
   "source": [
    "sample_data['c'] = 2*(sample_data['a']+sample_data['b']) + 10*np.random.normal(0,1, 10000)"
   ]
  },
  {
   "cell_type": "code",
   "execution_count": 5,
   "metadata": {},
   "outputs": [],
   "source": [
    "model = LinearRegression(0.2)"
   ]
  },
  {
   "cell_type": "code",
   "execution_count": 6,
   "metadata": {},
   "outputs": [
    {
     "data": {
      "text/plain": [
       "<__main__.LinearRegression at 0x7f826f71a910>"
      ]
     },
     "execution_count": 6,
     "metadata": {},
     "output_type": "execute_result"
    }
   ],
   "source": [
    "model.fit(sample_data[['a','b']], sample_data['c'])"
   ]
  },
  {
   "cell_type": "code",
   "execution_count": 7,
   "metadata": {},
   "outputs": [
    {
     "data": {
      "text/plain": [
       "array([2.00270825, 2.00970679])"
      ]
     },
     "execution_count": 7,
     "metadata": {},
     "output_type": "execute_result"
    }
   ],
   "source": [
    "model.weights"
   ]
  },
  {
   "cell_type": "code",
   "execution_count": 8,
   "metadata": {},
   "outputs": [
    {
     "data": {
      "text/plain": [
       "0.04087961035751523"
      ]
     },
     "execution_count": 8,
     "metadata": {},
     "output_type": "execute_result"
    }
   ],
   "source": [
    "model.intercept"
   ]
  },
  {
   "cell_type": "markdown",
   "metadata": {},
   "source": [
    "This is good! We created fake data with noise where the correct coefficients should both be 2 and the intercept should be zero. By the SSE list below, it looks like it converged in much less than 1000 iterations."
   ]
  },
  {
   "cell_type": "code",
   "execution_count": 9,
   "metadata": {},
   "outputs": [
    {
     "data": {
      "text/html": [
       "<div>\n",
       "<style scoped>\n",
       "    .dataframe tbody tr th:only-of-type {\n",
       "        vertical-align: middle;\n",
       "    }\n",
       "\n",
       "    .dataframe tbody tr th {\n",
       "        vertical-align: top;\n",
       "    }\n",
       "\n",
       "    .dataframe thead th {\n",
       "        text-align: right;\n",
       "    }\n",
       "</style>\n",
       "<table border=\"1\" class=\"dataframe\">\n",
       "  <thead>\n",
       "    <tr style=\"text-align: right;\">\n",
       "      <th></th>\n",
       "      <th>Sum of Squared Errors</th>\n",
       "      <th>Mean Squared Error</th>\n",
       "      <th>Root Mean Squared Error</th>\n",
       "      <th>R-squared</th>\n",
       "    </tr>\n",
       "  </thead>\n",
       "  <tbody>\n",
       "    <tr>\n",
       "      <th>0</th>\n",
       "      <td>1002.548642</td>\n",
       "      <td>0.100255</td>\n",
       "      <td>0.31663</td>\n",
       "      <td>0.999888</td>\n",
       "    </tr>\n",
       "  </tbody>\n",
       "</table>\n",
       "</div>"
      ],
      "text/plain": [
       "   Sum of Squared Errors  Mean Squared Error  Root Mean Squared Error  \\\n",
       "0            1002.548642            0.100255                  0.31663   \n",
       "\n",
       "   R-squared  \n",
       "0   0.999888  "
      ]
     },
     "execution_count": 9,
     "metadata": {},
     "output_type": "execute_result"
    }
   ],
   "source": [
    "model.error_analysis"
   ]
  },
  {
   "cell_type": "markdown",
   "metadata": {},
   "source": [
    "#### A quick visualization "
   ]
  },
  {
   "cell_type": "code",
   "execution_count": 10,
   "metadata": {},
   "outputs": [],
   "source": [
    "#Random data\n",
    "sample_data = pd.DataFrame({'data': 10*np.random.normal(0,1, 10000)})"
   ]
  },
  {
   "cell_type": "code",
   "execution_count": 11,
   "metadata": {},
   "outputs": [],
   "source": [
    "#We engineer a target for the regression that should have a weight of 7 for data and an intercept of 32 \n",
    "#Add noise so it's not too easy\n",
    "sample_data['target'] = 7*sample_data['data']+32 + 35 * np.random.normal(0,1, 10000)"
   ]
  },
  {
   "cell_type": "code",
   "execution_count": 12,
   "metadata": {},
   "outputs": [],
   "source": [
    "model = LinearRegression(0.5)"
   ]
  },
  {
   "cell_type": "code",
   "execution_count": 13,
   "metadata": {},
   "outputs": [
    {
     "data": {
      "text/plain": [
       "<__main__.LinearRegression at 0x7f826f8202d0>"
      ]
     },
     "execution_count": 13,
     "metadata": {},
     "output_type": "execute_result"
    }
   ],
   "source": [
    "model.fit(sample_data[['data']], sample_data['target'])"
   ]
  },
  {
   "cell_type": "code",
   "execution_count": 14,
   "metadata": {},
   "outputs": [
    {
     "data": {
      "text/plain": [
       "array([6.97519574])"
      ]
     },
     "execution_count": 14,
     "metadata": {},
     "output_type": "execute_result"
    }
   ],
   "source": [
    "model.weights"
   ]
  },
  {
   "cell_type": "code",
   "execution_count": 15,
   "metadata": {},
   "outputs": [
    {
     "data": {
      "text/plain": [
       "31.577019744701648"
      ]
     },
     "execution_count": 15,
     "metadata": {},
     "output_type": "execute_result"
    }
   ],
   "source": [
    "model.intercept"
   ]
  },
  {
   "cell_type": "code",
   "execution_count": 16,
   "metadata": {},
   "outputs": [
    {
     "data": {
      "text/html": [
       "<div>\n",
       "<style scoped>\n",
       "    .dataframe tbody tr th:only-of-type {\n",
       "        vertical-align: middle;\n",
       "    }\n",
       "\n",
       "    .dataframe tbody tr th {\n",
       "        vertical-align: top;\n",
       "    }\n",
       "\n",
       "    .dataframe thead th {\n",
       "        text-align: right;\n",
       "    }\n",
       "</style>\n",
       "<table border=\"1\" class=\"dataframe\">\n",
       "  <thead>\n",
       "    <tr style=\"text-align: right;\">\n",
       "      <th></th>\n",
       "      <th>Sum of Squared Errors</th>\n",
       "      <th>Mean Squared Error</th>\n",
       "      <th>Root Mean Squared Error</th>\n",
       "      <th>R-squared</th>\n",
       "    </tr>\n",
       "  </thead>\n",
       "  <tbody>\n",
       "    <tr>\n",
       "      <th>0</th>\n",
       "      <td>3467.743311</td>\n",
       "      <td>0.346774</td>\n",
       "      <td>0.588875</td>\n",
       "      <td>0.999942</td>\n",
       "    </tr>\n",
       "  </tbody>\n",
       "</table>\n",
       "</div>"
      ],
      "text/plain": [
       "   Sum of Squared Errors  Mean Squared Error  Root Mean Squared Error  \\\n",
       "0            3467.743311            0.346774                 0.588875   \n",
       "\n",
       "   R-squared  \n",
       "0   0.999942  "
      ]
     },
     "execution_count": 16,
     "metadata": {},
     "output_type": "execute_result"
    }
   ],
   "source": [
    "model.error_analysis"
   ]
  },
  {
   "cell_type": "markdown",
   "metadata": {},
   "source": [
    "These numbers look spot on! Let's finish it up by showing the graph of the data and the trend line."
   ]
  },
  {
   "cell_type": "code",
   "execution_count": 17,
   "metadata": {},
   "outputs": [
    {
     "data": {
      "image/png": "[encoded data removed]",
      "text/plain": [
       "<Figure size 792x576 with 1 Axes>"
      ]
     },
     "metadata": {
      "needs_background": "light"
     },
     "output_type": "display_data"
    }
   ],
   "source": [
    "import matplotlib.pyplot as plt\n",
    "import matplotlib.lines as mlines\n",
    "import matplotlib.transforms as mtransforms\n",
    "#Lets combine a and b to visualize this better. \n",
    "x = sample_data['data']\n",
    "y = sample_data['target']\n",
    "\n",
    "fig = plt.figure(figsize=(11,8))\n",
    "ax = fig.add_subplot(1,1,1)\n",
    "ax.scatter(x, y)\n",
    "plt.xticks(fontsize = 14)\n",
    "plt.yticks(fontsize=14)\n",
    "ax.set_title(\"Using our algorithm on sample data\",fontsize=25,fontweight = 'bold', y=1.03);\n",
    "plt.plot(x, model.weights*x + model.intercept, color = 'r')\n",
    "plt.show()"
   ]
  }
 ],
 "metadata": {
  "kernelspec": {
   "display_name": "Python 3",
   "language": "python",
   "name": "python3"
  },
  "language_info": {
   "codemirror_mode": {
    "name": "ipython",
    "version": 3
   },
   "file_extension": ".py",
   "mimetype": "text/x-python",
   "name": "python",
   "nbconvert_exporter": "python",
   "pygments_lexer": "ipython3",
   "version": "3.7.7"
  }
 },
 "nbformat": 4,
 "nbformat_minor": 4
}
