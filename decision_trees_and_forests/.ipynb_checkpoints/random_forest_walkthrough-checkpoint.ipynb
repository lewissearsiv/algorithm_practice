{
 "cells": [
  {
   "cell_type": "markdown",
   "metadata": {},
   "source": [
    "## Random Forest\n",
    "#### Lewis Sears\n",
    "\n",
    "The decision tree was a simple, yet powerful, idea that makes for a good classifier. It does have one problem that any machine learning engineer would tell you: it tends to completely over fit on training data. To solve this issue, we introduce the random forest classifier. The random forest classifier is an *ensemble* method, which are methods that run many algorithms in parallel to obtain better performance than the single algorithm. With regard to random forest, it creates an ensemble of decision trees (hence the forest part) that end up producing a stronger results without overfitting on training data. First, we should talk about how exactly we train this group of decision trees.    "
   ]
  },
  {
   "cell_type": "markdown",
   "metadata": {},
   "source": [
    "### Bootstrap Aggregating (Bagging)\n",
    "\n",
    "Bagging is the process where we harness the predictive power of decision trees without the inevitable overfitting that may occur. Given a training set of $n$ points, we randomly select a group of $n'$ points **with replacement** from the training data. We repeat this process until we have $k$ different sets of new training data, $\\{D_{1},\\ldots, D_{k}\\}$. To train on these, we will cheat a little bit and use *Sci-kit Learns* decision tree classifier. "
   ]
  },
  {
   "cell_type": "code",
   "execution_count": 22,
   "metadata": {},
   "outputs": [],
   "source": [
    "import pandas as pd\n",
    "import numpy as np\n",
    "from sklearn.tree import DecisionTreeClassifier\n",
    "class RandomForestClassifier(object):\n",
    "    '''Our random forest classifier built on sci-kit learn's decision tree classifier'''\n",
    "    \n",
    "    \n",
    "    def __init__(self, num_bags, bag_size_percentage):\n",
    "        '''Define the hyperparameter for the number of bags and the size of the bags as a percentage\n",
    "        of the total data you'll fit the model on. About 63% of the train data is recommended.'''\n",
    "        self.num_bags = num_bags\n",
    "        self.bag_percentage = bag_size_percentage\n",
    "    \n",
    "    def fit(self, train_data, train_target):\n",
    "        '''We will train various decision trees. Be sure to one-hot-encode any categorical data.\n",
    "        Inputs should be the same form as pandas dataframes after sklearn's test_train_split.'''\n",
    "        \n",
    "        data = np.array(train_data)\n",
    "        target = np.array(train_target)\n",
    "        train_class_counts = np.unique(target, return_counts = True)\n",
    "        self.train_class_counts = train_class_counts\n",
    "        \n",
    "        #train num_bags many decision trees using bootstrapping techniques\n",
    "        bag_size = int(np.floor(self.bag_percentage * len(data)))\n",
    "        models = []\n",
    "        i = 0\n",
    "        while i < self.num_bags:\n",
    "            random_sample_index = np.random.choice(data.shape[0], bag_size)\n",
    "            data_bagged = data[random_sample_index]\n",
    "            target_bagged = target[random_sample_index]\n",
    "            decision_tree_model = DecisionTreeClassifier(random_state=0)\n",
    "            decision_tree_model.fit(data_bagged, target_bagged)\n",
    "            models.append(decision_tree_model)\n",
    "            i += 1\n",
    "        \n",
    "        self.all_models = models\n",
    "        return self\n",
    "        \n",
    "        \n",
    "    def predict(self, data_frame):\n",
    "        '''Use the set of models created by the bagging to predict a class.\n",
    "        Should be formatted as data frames. '''\n",
    "        \n",
    "        data = np.array(data_frame)\n",
    "        \n",
    "        #Create an array of all predictions\n",
    "        model_predictions = np.array([model.predict(data) for model in self.all_models]).T\n",
    "        model_counts = [np.unique(votes, return_counts = True) for votes in model_predictions]\n",
    "        self.model_counts = model_counts\n",
    "        max_votes = [counts[0][counts[1] == max(counts[1])] for counts in model_counts]\n",
    "        \n",
    "        #function to sift through vote counts with some bias:\n",
    "        #We will always break a tie with the minority class\n",
    "        def vote_cleaner(votes):\n",
    "            if len(votes) == 1:\n",
    "                return votes\n",
    "            else:\n",
    "                 return self.train_class_counts[0][np.argmin(self.train_class_counts[1][self.train_class_counts[0] == votes])]\n",
    "        \n",
    "        #Final predictions\n",
    "        self.predictions = [int(vote_cleaner(votes)) for votes in max_votes]        \n",
    "        return self\n",
    "    \n",
    "    def score(self, test_data, test_target):\n",
    "        predictions = np.array(self.predict(test_data).predictions)\n",
    "        actual = np.array([int(x) for x in list(test_target.values)])\n",
    "        self.score_predictions = predictions\n",
    "        \n",
    "        #First complete accuracy\n",
    "        correctly_classified = predictions == actual\n",
    "        correct_counts = np.unique(correctly_classified, return_counts = True)\n",
    "        self.accuracy = float(correct_counts[1][correct_counts[0] == True]/len(correctly_classified))\n",
    "        \n",
    "        #Breakdown by class\n",
    "        classes = []\n",
    "        class_counts_actual = np.unique(actual, return_counts = True)\n",
    "        for val in class_counts_actual[0]:\n",
    "            classes.append([val, predictions[actual == val]])\n",
    "        class_breakdown = [[class_[0],np.unique(class_[1], return_counts = True)] for class_ in classes]\n",
    "        \n",
    "        #make a confusion matrix in a dataframe\n",
    "        class_dict = dict()\n",
    "        class_columns = []\n",
    "        for i in range(len(class_breakdown)):\n",
    "            class_ = class_breakdown[i][0]\n",
    "            class_columns.append(class_)\n",
    "            class_dict[class_] = class_breakdown[i][1][1]\n",
    "        confusion_df = pd.DataFrame(class_dict)\n",
    "        confusion_df.index.name = \"Actual\"\n",
    "        columns_ = [\"Predicted: {}\".format(class_) for class_ in class_columns]\n",
    "        confusion_df.columns = columns_\n",
    "        self.confusion_matrix = confusion_df\n",
    "        \n",
    "        #accuracy analysis by class\n",
    "        line = \"----------------------------------------------------\"\n",
    "        output = line\n",
    "        for ind in confusion_df.index:\n",
    "            row = confusion_df.iloc[ind]\n",
    "            accuracy = row[\"Predicted: {}\".format(ind)]/sum(row)\n",
    "            output += \"\\nClass {} Accuracy: {}\\n\".format(ind, accuracy) + line\n",
    "        self.class_accuracy_analysis = output\n",
    "    \n",
    "        \n",
    "        return self      "
   ]
  },
  {
   "cell_type": "markdown",
   "metadata": {},
   "source": [
    "### The credit card example"
   ]
  },
  {
   "cell_type": "markdown",
   "metadata": {},
   "source": [
    "This is a common data set taken from Kaggle which has credit card users information and whether or not they will default on their credit card payment. It does have a minority class which makes things a little trickier."
   ]
  },
  {
   "cell_type": "code",
   "execution_count": 2,
   "metadata": {},
   "outputs": [
    {
     "data": {
      "text/html": [
       "<div>\n",
       "<style scoped>\n",
       "    .dataframe tbody tr th:only-of-type {\n",
       "        vertical-align: middle;\n",
       "    }\n",
       "\n",
       "    .dataframe tbody tr th {\n",
       "        vertical-align: top;\n",
       "    }\n",
       "\n",
       "    .dataframe thead th {\n",
       "        text-align: right;\n",
       "    }\n",
       "</style>\n",
       "<table border=\"1\" class=\"dataframe\">\n",
       "  <thead>\n",
       "    <tr style=\"text-align: right;\">\n",
       "      <th></th>\n",
       "      <th>ID</th>\n",
       "      <th>LIMIT_BAL</th>\n",
       "      <th>SEX</th>\n",
       "      <th>EDUCATION</th>\n",
       "      <th>MARRIAGE</th>\n",
       "      <th>AGE</th>\n",
       "      <th>PAY_0</th>\n",
       "      <th>PAY_2</th>\n",
       "      <th>PAY_3</th>\n",
       "      <th>PAY_4</th>\n",
       "      <th>...</th>\n",
       "      <th>BILL_AMT4</th>\n",
       "      <th>BILL_AMT5</th>\n",
       "      <th>BILL_AMT6</th>\n",
       "      <th>PAY_AMT1</th>\n",
       "      <th>PAY_AMT2</th>\n",
       "      <th>PAY_AMT3</th>\n",
       "      <th>PAY_AMT4</th>\n",
       "      <th>PAY_AMT5</th>\n",
       "      <th>PAY_AMT6</th>\n",
       "      <th>default payment next month</th>\n",
       "    </tr>\n",
       "  </thead>\n",
       "  <tbody>\n",
       "    <tr>\n",
       "      <th>1</th>\n",
       "      <td>1</td>\n",
       "      <td>20000</td>\n",
       "      <td>2</td>\n",
       "      <td>2</td>\n",
       "      <td>1</td>\n",
       "      <td>24</td>\n",
       "      <td>2</td>\n",
       "      <td>2</td>\n",
       "      <td>-1</td>\n",
       "      <td>-1</td>\n",
       "      <td>...</td>\n",
       "      <td>0</td>\n",
       "      <td>0</td>\n",
       "      <td>0</td>\n",
       "      <td>0</td>\n",
       "      <td>689</td>\n",
       "      <td>0</td>\n",
       "      <td>0</td>\n",
       "      <td>0</td>\n",
       "      <td>0</td>\n",
       "      <td>1</td>\n",
       "    </tr>\n",
       "    <tr>\n",
       "      <th>2</th>\n",
       "      <td>2</td>\n",
       "      <td>120000</td>\n",
       "      <td>2</td>\n",
       "      <td>2</td>\n",
       "      <td>2</td>\n",
       "      <td>26</td>\n",
       "      <td>-1</td>\n",
       "      <td>2</td>\n",
       "      <td>0</td>\n",
       "      <td>0</td>\n",
       "      <td>...</td>\n",
       "      <td>3272</td>\n",
       "      <td>3455</td>\n",
       "      <td>3261</td>\n",
       "      <td>0</td>\n",
       "      <td>1000</td>\n",
       "      <td>1000</td>\n",
       "      <td>1000</td>\n",
       "      <td>0</td>\n",
       "      <td>2000</td>\n",
       "      <td>1</td>\n",
       "    </tr>\n",
       "    <tr>\n",
       "      <th>3</th>\n",
       "      <td>3</td>\n",
       "      <td>90000</td>\n",
       "      <td>2</td>\n",
       "      <td>2</td>\n",
       "      <td>2</td>\n",
       "      <td>34</td>\n",
       "      <td>0</td>\n",
       "      <td>0</td>\n",
       "      <td>0</td>\n",
       "      <td>0</td>\n",
       "      <td>...</td>\n",
       "      <td>14331</td>\n",
       "      <td>14948</td>\n",
       "      <td>15549</td>\n",
       "      <td>1518</td>\n",
       "      <td>1500</td>\n",
       "      <td>1000</td>\n",
       "      <td>1000</td>\n",
       "      <td>1000</td>\n",
       "      <td>5000</td>\n",
       "      <td>0</td>\n",
       "    </tr>\n",
       "    <tr>\n",
       "      <th>4</th>\n",
       "      <td>4</td>\n",
       "      <td>50000</td>\n",
       "      <td>2</td>\n",
       "      <td>2</td>\n",
       "      <td>1</td>\n",
       "      <td>37</td>\n",
       "      <td>0</td>\n",
       "      <td>0</td>\n",
       "      <td>0</td>\n",
       "      <td>0</td>\n",
       "      <td>...</td>\n",
       "      <td>28314</td>\n",
       "      <td>28959</td>\n",
       "      <td>29547</td>\n",
       "      <td>2000</td>\n",
       "      <td>2019</td>\n",
       "      <td>1200</td>\n",
       "      <td>1100</td>\n",
       "      <td>1069</td>\n",
       "      <td>1000</td>\n",
       "      <td>0</td>\n",
       "    </tr>\n",
       "    <tr>\n",
       "      <th>5</th>\n",
       "      <td>5</td>\n",
       "      <td>50000</td>\n",
       "      <td>1</td>\n",
       "      <td>2</td>\n",
       "      <td>1</td>\n",
       "      <td>57</td>\n",
       "      <td>-1</td>\n",
       "      <td>0</td>\n",
       "      <td>-1</td>\n",
       "      <td>0</td>\n",
       "      <td>...</td>\n",
       "      <td>20940</td>\n",
       "      <td>19146</td>\n",
       "      <td>19131</td>\n",
       "      <td>2000</td>\n",
       "      <td>36681</td>\n",
       "      <td>10000</td>\n",
       "      <td>9000</td>\n",
       "      <td>689</td>\n",
       "      <td>679</td>\n",
       "      <td>0</td>\n",
       "    </tr>\n",
       "  </tbody>\n",
       "</table>\n",
       "<p>5 rows × 25 columns</p>\n",
       "</div>"
      ],
      "text/plain": [
       "0 ID LIMIT_BAL SEX EDUCATION MARRIAGE AGE PAY_0 PAY_2 PAY_3 PAY_4  ...  \\\n",
       "1  1     20000   2         2        1  24     2     2    -1    -1  ...   \n",
       "2  2    120000   2         2        2  26    -1     2     0     0  ...   \n",
       "3  3     90000   2         2        2  34     0     0     0     0  ...   \n",
       "4  4     50000   2         2        1  37     0     0     0     0  ...   \n",
       "5  5     50000   1         2        1  57    -1     0    -1     0  ...   \n",
       "\n",
       "0 BILL_AMT4 BILL_AMT5 BILL_AMT6 PAY_AMT1 PAY_AMT2 PAY_AMT3 PAY_AMT4 PAY_AMT5  \\\n",
       "1         0         0         0        0      689        0        0        0   \n",
       "2      3272      3455      3261        0     1000     1000     1000        0   \n",
       "3     14331     14948     15549     1518     1500     1000     1000     1000   \n",
       "4     28314     28959     29547     2000     2019     1200     1100     1069   \n",
       "5     20940     19146     19131     2000    36681    10000     9000      689   \n",
       "\n",
       "0 PAY_AMT6 default payment next month  \n",
       "1        0                          1  \n",
       "2     2000                          1  \n",
       "3     5000                          0  \n",
       "4     1000                          0  \n",
       "5      679                          0  \n",
       "\n",
       "[5 rows x 25 columns]"
      ]
     },
     "execution_count": 2,
     "metadata": {},
     "output_type": "execute_result"
    }
   ],
   "source": [
    "df_creditcard = pd.read_csv('cc_default_1.csv')\n",
    "df = df_creditcard.iloc[1:]\n",
    "df.columns = df_creditcard.iloc[0]\n",
    "df.head()"
   ]
  },
  {
   "cell_type": "code",
   "execution_count": 3,
   "metadata": {},
   "outputs": [],
   "source": [
    "df_data = df[['ID', 'LIMIT_BAL', 'SEX', 'EDUCATION', 'MARRIAGE', 'AGE', 'PAY_0',\n",
    "       'PAY_2', 'PAY_3', 'PAY_4', 'PAY_5', 'PAY_6', 'BILL_AMT1', 'BILL_AMT2',\n",
    "       'BILL_AMT3', 'BILL_AMT4', 'BILL_AMT5', 'BILL_AMT6', 'PAY_AMT1',\n",
    "       'PAY_AMT2', 'PAY_AMT3', 'PAY_AMT4', 'PAY_AMT5', 'PAY_AMT6']]\n",
    "df_target = df['default payment next month']"
   ]
  },
  {
   "cell_type": "code",
   "execution_count": 4,
   "metadata": {},
   "outputs": [
    {
     "data": {
      "text/plain": [
       "DecisionTreeClassifier()"
      ]
     },
     "execution_count": 4,
     "metadata": {},
     "output_type": "execute_result"
    }
   ],
   "source": [
    "#Try decision tree\n",
    "from sklearn.model_selection import train_test_split\n",
    "X_train, X_test, y_train, y_test = train_test_split(df_data, df_target, test_size=0.33, random_state=42)\n",
    "decision_tree_model = DecisionTreeClassifier()\n",
    "decision_tree_model.fit(X_train, y_train)"
   ]
  },
  {
   "cell_type": "code",
   "execution_count": 5,
   "metadata": {},
   "outputs": [
    {
     "name": "stdout",
     "output_type": "stream",
     "text": [
      "Training Score: 1.0\n",
      "Test Score: 0.7218181818181818\n"
     ]
    }
   ],
   "source": [
    "train_score, test_score = decision_tree_model.score(X_train,y_train),decision_tree_model.score(X_test,y_test)\n",
    "print(\"Training Score: {}\\nTest Score: {}\".format(train_score, test_score))"
   ]
  },
  {
   "cell_type": "code",
   "execution_count": 6,
   "metadata": {},
   "outputs": [
    {
     "data": {
      "image/png": "[encoded data removed]",
      "text/plain": [
       "<Figure size 504x504 with 2 Axes>"
      ]
     },
     "metadata": {
      "needs_background": "light"
     },
     "output_type": "display_data"
    }
   ],
   "source": [
    "import matplotlib.pyplot as plt\n",
    "from sklearn.metrics import plot_confusion_matrix, mean_squared_error, confusion_matrix\n",
    "fig, ax = plt.subplots(figsize=(7, 7))\n",
    "plot_confusion_matrix(decision_tree_model, X_test, y_test, ax=ax)\n",
    "plt.grid(b = None)\n",
    "plt.title('Decision Tree Confusion Matrix', fontweight=\"bold\", fontsize=17);"
   ]
  },
  {
   "cell_type": "markdown",
   "metadata": {},
   "source": [
    "So as we can predicted, the decision tree totally overfit the data! We won't mind too much now about the complete disregard for the class balance, but lets try the random forest model we built."
   ]
  },
  {
   "cell_type": "code",
   "execution_count": 7,
   "metadata": {},
   "outputs": [],
   "source": [
    "#Normal test train split holding out about a third of the data \n",
    "X_train, X_test, y_train, y_test = train_test_split(df_data, df_target, test_size=0.33, random_state=42)"
   ]
  },
  {
   "cell_type": "code",
   "execution_count": 8,
   "metadata": {},
   "outputs": [],
   "source": [
    "#We initial the algorithm by trying just 20 bags to start and the recommended size of the bag \n",
    "#(63% of train data) \n",
    "our_random_forest = RandomForestClassifier(20, 0.63)"
   ]
  },
  {
   "cell_type": "code",
   "execution_count": 9,
   "metadata": {},
   "outputs": [
    {
     "data": {
      "text/plain": [
       "<__main__.RandomForestClassifier at 0x7ffe942b0410>"
      ]
     },
     "execution_count": 9,
     "metadata": {},
     "output_type": "execute_result"
    }
   ],
   "source": [
    "our_random_forest.fit(X_train, y_train)"
   ]
  },
  {
   "cell_type": "code",
   "execution_count": 10,
   "metadata": {},
   "outputs": [
    {
     "data": {
      "text/plain": [
       "<__main__.RandomForestClassifier at 0x7ffe942b0410>"
      ]
     },
     "execution_count": 10,
     "metadata": {},
     "output_type": "execute_result"
    }
   ],
   "source": [
    "#See how it scores on the training data:\n",
    "our_random_forest.score(X_train, y_train)"
   ]
  },
  {
   "cell_type": "code",
   "execution_count": 11,
   "metadata": {},
   "outputs": [
    {
     "data": {
      "text/plain": [
       "0.9696019900497512"
      ]
     },
     "execution_count": 11,
     "metadata": {},
     "output_type": "execute_result"
    }
   ],
   "source": [
    "our_random_forest.accuracy"
   ]
  },
  {
   "cell_type": "code",
   "execution_count": 12,
   "metadata": {},
   "outputs": [
    {
     "data": {
      "text/html": [
       "<div>\n",
       "<style scoped>\n",
       "    .dataframe tbody tr th:only-of-type {\n",
       "        vertical-align: middle;\n",
       "    }\n",
       "\n",
       "    .dataframe tbody tr th {\n",
       "        vertical-align: top;\n",
       "    }\n",
       "\n",
       "    .dataframe thead th {\n",
       "        text-align: right;\n",
       "    }\n",
       "</style>\n",
       "<table border=\"1\" class=\"dataframe\">\n",
       "  <thead>\n",
       "    <tr style=\"text-align: right;\">\n",
       "      <th></th>\n",
       "      <th>Predicted: 0</th>\n",
       "      <th>Predicted: 1</th>\n",
       "    </tr>\n",
       "    <tr>\n",
       "      <th>Actual</th>\n",
       "      <th></th>\n",
       "      <th></th>\n",
       "    </tr>\n",
       "  </thead>\n",
       "  <tbody>\n",
       "    <tr>\n",
       "      <th>0</th>\n",
       "      <td>15508</td>\n",
       "      <td>497</td>\n",
       "    </tr>\n",
       "    <tr>\n",
       "      <th>1</th>\n",
       "      <td>114</td>\n",
       "      <td>3981</td>\n",
       "    </tr>\n",
       "  </tbody>\n",
       "</table>\n",
       "</div>"
      ],
      "text/plain": [
       "        Predicted: 0  Predicted: 1\n",
       "Actual                            \n",
       "0              15508           497\n",
       "1                114          3981"
      ]
     },
     "execution_count": 12,
     "metadata": {},
     "output_type": "execute_result"
    }
   ],
   "source": [
    "our_random_forest.confusion_matrix"
   ]
  },
  {
   "cell_type": "code",
   "execution_count": 13,
   "metadata": {},
   "outputs": [
    {
     "name": "stdout",
     "output_type": "stream",
     "text": [
      "----------------------------------------------------\n",
      "Class 0 Accuracy: 0.9689472039987503\n",
      "----------------------------------------------------\n",
      "Class 1 Accuracy: 0.9721611721611721\n",
      "----------------------------------------------------\n"
     ]
    }
   ],
   "source": [
    "print(our_random_forest.class_accuracy_analysis)"
   ]
  },
  {
   "cell_type": "markdown",
   "metadata": {},
   "source": [
    "Check out how our accuracy is still really high and it seems to be pretty good at balancing the classes! None of this matters until we see how it does on the test data. Now's the moment of truth! "
   ]
  },
  {
   "cell_type": "code",
   "execution_count": 14,
   "metadata": {},
   "outputs": [],
   "source": [
    "test_scores = our_random_forest.score(X_test, y_test)"
   ]
  },
  {
   "cell_type": "code",
   "execution_count": 15,
   "metadata": {},
   "outputs": [
    {
     "data": {
      "text/plain": [
       "0.8063636363636364"
      ]
     },
     "execution_count": 15,
     "metadata": {},
     "output_type": "execute_result"
    }
   ],
   "source": [
    "test_scores.accuracy"
   ]
  },
  {
   "cell_type": "code",
   "execution_count": 16,
   "metadata": {},
   "outputs": [
    {
     "data": {
      "text/html": [
       "<div>\n",
       "<style scoped>\n",
       "    .dataframe tbody tr th:only-of-type {\n",
       "        vertical-align: middle;\n",
       "    }\n",
       "\n",
       "    .dataframe tbody tr th {\n",
       "        vertical-align: top;\n",
       "    }\n",
       "\n",
       "    .dataframe thead th {\n",
       "        text-align: right;\n",
       "    }\n",
       "</style>\n",
       "<table border=\"1\" class=\"dataframe\">\n",
       "  <thead>\n",
       "    <tr style=\"text-align: right;\">\n",
       "      <th></th>\n",
       "      <th>Predicted: 0</th>\n",
       "      <th>Predicted: 1</th>\n",
       "    </tr>\n",
       "    <tr>\n",
       "      <th>Actual</th>\n",
       "      <th></th>\n",
       "      <th></th>\n",
       "    </tr>\n",
       "  </thead>\n",
       "  <tbody>\n",
       "    <tr>\n",
       "      <th>0</th>\n",
       "      <td>7150</td>\n",
       "      <td>1325</td>\n",
       "    </tr>\n",
       "    <tr>\n",
       "      <th>1</th>\n",
       "      <td>592</td>\n",
       "      <td>833</td>\n",
       "    </tr>\n",
       "  </tbody>\n",
       "</table>\n",
       "</div>"
      ],
      "text/plain": [
       "        Predicted: 0  Predicted: 1\n",
       "Actual                            \n",
       "0               7150          1325\n",
       "1                592           833"
      ]
     },
     "execution_count": 16,
     "metadata": {},
     "output_type": "execute_result"
    }
   ],
   "source": [
    "test_scores.confusion_matrix"
   ]
  },
  {
   "cell_type": "code",
   "execution_count": 17,
   "metadata": {},
   "outputs": [
    {
     "name": "stdout",
     "output_type": "stream",
     "text": [
      "----------------------------------------------------\n",
      "Class 0 Accuracy: 0.8436578171091446\n",
      "----------------------------------------------------\n",
      "Class 1 Accuracy: 0.584561403508772\n",
      "----------------------------------------------------\n"
     ]
    }
   ],
   "source": [
    "print(our_random_forest.class_accuracy_analysis)"
   ]
  },
  {
   "cell_type": "markdown",
   "metadata": {},
   "source": [
    "So a quick analysis. The random forest model is still way overfitting on training data, but not nearly as badly as a single decision tree. To continue to improve the accuracy on unseen test data, we simply need more trees than 20. Of course, the number of trees is a hyper parameter that we have to tune to be maximally effective. But for the sake of time, lets try 500. This is where the implementation of *sk-learn*'s random forest becomes a lot better than ours, since this could take a while.  "
   ]
  },
  {
   "cell_type": "code",
   "execution_count": 31,
   "metadata": {},
   "outputs": [
    {
     "data": {
      "text/plain": [
       "<__main__.RandomForestClassifier at 0x7ffe950a9310>"
      ]
     },
     "execution_count": 31,
     "metadata": {},
     "output_type": "execute_result"
    }
   ],
   "source": [
    "X_train, X_test, y_train, y_test = train_test_split(df_data, df_target, test_size=0.33, random_state=42)\n",
    "random_forest_model = RandomForestClassifier(500, 0.63)\n",
    "random_forest_model.fit(X_train, y_train)"
   ]
  },
  {
   "cell_type": "code",
   "execution_count": 32,
   "metadata": {},
   "outputs": [],
   "source": [
    "train_scores = random_forest_model.score(X_train, y_train)"
   ]
  },
  {
   "cell_type": "code",
   "execution_count": 33,
   "metadata": {},
   "outputs": [
    {
     "data": {
      "text/plain": [
       "0.9892039800995025"
      ]
     },
     "execution_count": 33,
     "metadata": {},
     "output_type": "execute_result"
    }
   ],
   "source": [
    "train_scores.accuracy"
   ]
  },
  {
   "cell_type": "code",
   "execution_count": 34,
   "metadata": {},
   "outputs": [
    {
     "name": "stdout",
     "output_type": "stream",
     "text": [
      "----------------------------------------------------\n",
      "Class 0 Accuracy: 0.9865453856357779\n",
      "----------------------------------------------------\n",
      "Class 1 Accuracy: 0.9990630124150855\n",
      "----------------------------------------------------\n"
     ]
    }
   ],
   "source": [
    "print(train_scores.class_accuracy_analysis)"
   ]
  },
  {
   "cell_type": "markdown",
   "metadata": {},
   "source": [
    "Funny, the training scores increased a lot! Let's check the test data."
   ]
  },
  {
   "cell_type": "code",
   "execution_count": 35,
   "metadata": {},
   "outputs": [],
   "source": [
    "test_scores = random_forest_model.score(X_test, y_test)"
   ]
  },
  {
   "cell_type": "code",
   "execution_count": 36,
   "metadata": {},
   "outputs": [
    {
     "data": {
      "text/plain": [
       "0.8174747474747475"
      ]
     },
     "execution_count": 36,
     "metadata": {},
     "output_type": "execute_result"
    }
   ],
   "source": [
    "test_scores.accuracy"
   ]
  },
  {
   "cell_type": "code",
   "execution_count": 37,
   "metadata": {},
   "outputs": [
    {
     "name": "stdout",
     "output_type": "stream",
     "text": [
      "----------------------------------------------------\n",
      "Class 0 Accuracy: 0.843262001156738\n",
      "----------------------------------------------------\n",
      "Class 1 Accuracy: 0.6398406374501993\n",
      "----------------------------------------------------\n"
     ]
    }
   ],
   "source": [
    "print(test_scores.class_accuracy_analysis)"
   ]
  },
  {
   "cell_type": "code",
   "execution_count": 38,
   "metadata": {},
   "outputs": [
    {
     "data": {
      "text/html": [
       "<div>\n",
       "<style scoped>\n",
       "    .dataframe tbody tr th:only-of-type {\n",
       "        vertical-align: middle;\n",
       "    }\n",
       "\n",
       "    .dataframe tbody tr th {\n",
       "        vertical-align: top;\n",
       "    }\n",
       "\n",
       "    .dataframe thead th {\n",
       "        text-align: right;\n",
       "    }\n",
       "</style>\n",
       "<table border=\"1\" class=\"dataframe\">\n",
       "  <thead>\n",
       "    <tr style=\"text-align: right;\">\n",
       "      <th></th>\n",
       "      <th>Predicted: 0</th>\n",
       "      <th>Predicted: 1</th>\n",
       "    </tr>\n",
       "    <tr>\n",
       "      <th>Actual</th>\n",
       "      <th></th>\n",
       "      <th></th>\n",
       "    </tr>\n",
       "  </thead>\n",
       "  <tbody>\n",
       "    <tr>\n",
       "      <th>0</th>\n",
       "      <td>7290</td>\n",
       "      <td>1355</td>\n",
       "    </tr>\n",
       "    <tr>\n",
       "      <th>1</th>\n",
       "      <td>452</td>\n",
       "      <td>803</td>\n",
       "    </tr>\n",
       "  </tbody>\n",
       "</table>\n",
       "</div>"
      ],
      "text/plain": [
       "        Predicted: 0  Predicted: 1\n",
       "Actual                            \n",
       "0               7290          1355\n",
       "1                452           803"
      ]
     },
     "execution_count": 38,
     "metadata": {},
     "output_type": "execute_result"
    }
   ],
   "source": [
    "test_scores.confusion_matrix"
   ]
  },
  {
   "cell_type": "markdown",
   "metadata": {},
   "source": [
    "What's important to see here, is that by adding more trees, the accuracy increased slightly, but more importantly, the accuracy of the minority classification increased a good amount.  "
   ]
  }
 ],
 "metadata": {
  "kernelspec": {
   "display_name": "Python 3",
   "language": "python",
   "name": "python3"
  },
  "language_info": {
   "codemirror_mode": {
    "name": "ipython",
    "version": 3
   },
   "file_extension": ".py",
   "mimetype": "text/x-python",
   "name": "python",
   "nbconvert_exporter": "python",
   "pygments_lexer": "ipython3",
   "version": "3.7.7"
  }
 },
 "nbformat": 4,
 "nbformat_minor": 4
}
